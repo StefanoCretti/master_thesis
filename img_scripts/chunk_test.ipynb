{
 "cells": [
  {
   "cell_type": "code",
   "execution_count": 1,
   "id": "37c8a1fa",
   "metadata": {},
   "outputs": [],
   "source": [
    "import cooler\n",
    "from cooler.util import open_hdf5\n",
    "import hicona"
   ]
  },
  {
   "cell_type": "code",
   "execution_count": 2,
   "id": "afa4254d",
   "metadata": {},
   "outputs": [],
   "source": [
    "BIG_FILE_PATH = \"test_files/big_full_process.mcool::resolutions/10000\"\n",
    "SMALL_FILE_PATH = \"test_files/small.mcool::resolutions/10000\"\n",
    "TEST_CHROM = \"chr8\"\n",
    "cool = hicona.HiconaCooler(BIG_FILE_PATH)"
   ]
  },
  {
   "cell_type": "code",
   "execution_count": 38,
   "id": "e15c37d4",
   "metadata": {},
   "outputs": [
    {
     "name": "stdout",
     "output_type": "stream",
     "text": [
      "chr10: 8119321, 227340988\n",
      "chr20: 2089040, 58493120\n"
     ]
    },
    {
     "data": {
      "text/plain": [
       "285834108"
      ]
     },
     "execution_count": 38,
     "metadata": {},
     "output_type": "execute_result"
    }
   ],
   "source": [
    "cum_sum = 0\n",
    "for chrom in [\"chr10\", \"chr20\"]:\n",
    "    with open_hdf5(cool.store, mode=\"r\") as h5_handle:\n",
    "        extent = cool.extent(chrom)\n",
    "        h5_grp = h5_handle[cool.root]\n",
    "        min_off = h5_grp[\"indexes/bin1_offset\"][extent[0]]\n",
    "        max_off = h5_grp[\"indexes/bin1_offset\"][extent[1]]\n",
    "        df_size = cool.pixels()[min_off:max_off]\n",
    "        df_gb = sum(df_size.memory_usage(deep=True))\n",
    "        cum_sum += df_gb\n",
    "    print(f\"{chrom}: {max_off - min_off}, {df_gb}\")\n",
    "cum_sum"
   ]
  },
  {
   "cell_type": "markdown",
   "id": "1903122f",
   "metadata": {},
   "source": [
    "1 pixel = 28 bytes = 3 single precision numbers (8 bytes) for index, bin1_id, bin2_id, 1 half precision number (4 bytes) for count\n",
    "\n",
    "35,000,000 pixels $\\approx$ 1 Gb"
   ]
  },
  {
   "cell_type": "code",
   "execution_count": 1,
   "id": "37e78ace",
   "metadata": {},
   "outputs": [
    {
     "ename": "NameError",
     "evalue": "name 'cool' is not defined",
     "output_type": "error",
     "traceback": [
      "\u001b[0;31m---------------------------------------------------------------------------\u001b[0m",
      "\u001b[0;31mNameError\u001b[0m                                 Traceback (most recent call last)",
      "Cell \u001b[0;32mIn[1], line 1\u001b[0m\n\u001b[0;32m----> 1\u001b[0m lower, upper \u001b[38;5;241m=\u001b[39m \u001b[43mcool\u001b[49m\u001b[38;5;241m.\u001b[39mextent(TEST_CHROM)\n\u001b[1;32m      2\u001b[0m \u001b[38;5;28;01mwith\u001b[39;00m open_hdf5(cool\u001b[38;5;241m.\u001b[39mstore, mode\u001b[38;5;241m=\u001b[39m\u001b[38;5;124m\"\u001b[39m\u001b[38;5;124mr\u001b[39m\u001b[38;5;124m\"\u001b[39m) \u001b[38;5;28;01mas\u001b[39;00m h5_handle:\n\u001b[1;32m      3\u001b[0m     h5_grp \u001b[38;5;241m=\u001b[39m h5_handle[cool\u001b[38;5;241m.\u001b[39mroot]\n",
      "\u001b[0;31mNameError\u001b[0m: name 'cool' is not defined"
     ]
    }
   ],
   "source": [
    "lower, upper = cool.extent(TEST_CHROM)\n",
    "with open_hdf5(cool.store, mode=\"r\") as h5_handle:\n",
    "    h5_grp = h5_handle[cool.root]\n",
    "    lo_pix = h5_grp[\"indexes/bin1_offset\"][lower]\n",
    "    hi_pix = h5_grp[\"indexes/bin1_offset\"][upper]\n",
    "\n",
    "stat = \"median\"\n",
    "pix_df = cool.pixels()[lo_pix:hi_pix]\n",
    "pix_df[\"bin_difference\"] = pix_df[\"bin2_id\"] - pix_df[\"bin1_id\"]\n",
    "indexer = pix_df[pix_df[\"bin2_id\"] >= upper].index\n",
    "pix_df.drop(indexer, inplace=True)\n",
    "group_counts = pix_df.groupby(\"bin_difference\")[\"count\"]\n",
    "decay_curve = group_counts.agg(stat).to_frame()"
   ]
  },
  {
   "cell_type": "code",
   "execution_count": 7,
   "id": "264ff247",
   "metadata": {},
   "outputs": [
    {
     "data": {
      "text/plain": [
       "<Axes: xlabel='bin_difference'>"
      ]
     },
     "execution_count": 7,
     "metadata": {},
     "output_type": "execute_result"
    },
    {
     "data": {
      "image/png": "[encoded data removed]",
      "text/plain": [
       "<Figure size 640x480 with 1 Axes>"
      ]
     },
     "metadata": {},
     "output_type": "display_data"
    }
   ],
   "source": [
    "cumulative = group_counts.count().cumsum()\n",
    "cumulative.plot()\n",
    "# cumulative.plot(logx=True)"
   ]
  },
  {
   "cell_type": "code",
   "execution_count": 5,
   "id": "f0ade3c4",
   "metadata": {},
   "outputs": [
    {
     "name": "stdout",
     "output_type": "stream",
     "text": [
      "50: abs 664399, % 2.3611278731067413\n",
      "100: abs 1307873, % 4.647892899874523\n",
      "500: abs 5528909, % 19.64852618346915\n",
      "1000: abs 9094110, % 32.318466165811124\n",
      "2500: abs 16095934, % 57.20140820664463\n",
      "5000: abs 22651570, % 80.49869626027201\n",
      "10000: abs 27420050, % 97.44482507797349\n"
     ]
    }
   ],
   "source": [
    "thr_vals = [50, 100, 500, 1000, 2500, 5000, 10000]\n",
    "tot_pix = pix_df.shape[0]\n",
    "for val in thr_vals:\n",
    "    print(f\"{val}: abs {cumulative[val]}, % {cumulative[val]/tot_pix*100}\")"
   ]
  },
  {
   "cell_type": "markdown",
   "id": "a26cd344",
   "metadata": {},
   "source": [
    "Roughly using 100, 500, 1000, 2500, 5000 as cutoffs might work"
   ]
  }
 ],
 "metadata": {
  "kernelspec": {
   "display_name": "Python 3 (ipykernel)",
   "language": "python",
   "name": "python3"
  },
  "language_info": {
   "codemirror_mode": {
    "name": "ipython",
    "version": 3
   },
   "file_extension": ".py",
   "mimetype": "text/x-python",
   "name": "python",
   "nbconvert_exporter": "python",
   "pygments_lexer": "ipython3",
   "version": "3.10.9"
  }
 },
 "nbformat": 4,
 "nbformat_minor": 5
}
